{
 "cells": [
  {
   "cell_type": "code",
   "execution_count": 97,
   "metadata": {},
   "outputs": [],
   "source": [
    "import numpy as np\n",
    "import pandas as pd\n",
    "import matplotlib.pyplot as plt\n",
    "from sklearn.neighbors import KNeighborsClassifier\n",
    "from sklearn.metrics import accuracy_score\n",
    "from sklearn.model_selection import train_test_split, KFold, cross_val_score\n",
    "\n",
    "plt.rcParams[\"figure.figsize\"] = (20,10)\n",
    "plt.rcParams[\"font.size\"] =14"
   ]
  },
  {
   "cell_type": "markdown",
   "metadata": {},
   "source": [
    "read in and seperate the data"
   ]
  },
  {
   "cell_type": "code",
   "execution_count": 98,
   "metadata": {},
   "outputs": [
    {
     "name": "stdout",
     "output_type": "stream",
     "text": [
      "                                                   text  spam\n",
      "0     Subject: naturally irresistible your corporate...     1\n",
      "1     Subject: the stock trading gunslinger  fanny i...     1\n",
      "2     Subject: unbelievable new homes made easy  im ...     1\n",
      "3     Subject: 4 color printing special  request add...     1\n",
      "4     Subject: do not have money , get software cds ...     1\n",
      "...                                                 ...   ...\n",
      "1363  Subject: are you ready to get it ?  hello !  v...     1\n",
      "1364  Subject: would you like a $ 250 gas card ?  do...     1\n",
      "1365  Subject: immediate reply needed  dear sir ,  i...     1\n",
      "1366  Subject: wanna see me get fisted ?  fist  bang...     1\n",
      "1367  Subject: hot stock info : drgv announces anoth...     1\n",
      "\n",
      "[1368 rows x 2 columns]\n"
     ]
    }
   ],
   "source": [
    "data = pd.read_csv(\"Emails.csv\")\n",
    "data = data.replace(\"\", np.nan, regex=True)\n",
    "\n",
    "# Filter rows where the \"spam\" column is \"1\"\n",
    "Phish = data[data[\"spam\"] == 1]\n",
    "\n",
    "# Print the filtered DataFrame\n",
    "print(Phish)"
   ]
  },
  {
   "cell_type": "markdown",
   "metadata": {},
   "source": [
    "data is seperated so that all the data is now in the right format and all of the non spam is out of the dataset"
   ]
  },
  {
   "cell_type": "code",
   "execution_count": 99,
   "metadata": {},
   "outputs": [],
   "source": [
    "from sklearn.model_selection import train_test_split\n",
    "from sklearn.feature_extraction.text import TfidfVectorizer\n",
    "from sklearn.naive_bayes import MultinomialNB\n",
    "from sklearn.metrics import accuracy_score, classification_report\n",
    "# Tokenize and preprocess the text\n",
    "text_data = data[\"text\"]  # Replace with the actual column name containing email text\n",
    "labels = data[\"spam\"]  # Replace with the actual column name containing email categories\n",
    "\n",
    "# Split the data into training and testing sets\n",
    "X_train, X_test, y_train, y_test = train_test_split(text_data, labels, test_size=0.2, random_state=42)"
   ]
  },
  {
   "cell_type": "code",
   "execution_count": 100,
   "metadata": {},
   "outputs": [
    {
     "name": "stdout",
     "output_type": "stream",
     "text": [
      "Accuracy: 0.85\n",
      "              precision    recall  f1-score   support\n",
      "\n",
      "           0       0.83      1.00      0.91       856\n",
      "           1       1.00      0.41      0.59       290\n",
      "\n",
      "    accuracy                           0.85      1146\n",
      "   macro avg       0.92      0.71      0.75      1146\n",
      "weighted avg       0.88      0.85      0.83      1146\n",
      "\n"
     ]
    }
   ],
   "source": [
    "# Create a TF-IDF vectorizer\n",
    "tfidf_vectorizer = TfidfVectorizer()\n",
    "X_train_tfidf = tfidf_vectorizer.fit_transform(X_train)\n",
    "X_test_tfidf = tfidf_vectorizer.transform(X_test)\n",
    "\n",
    "# Choose a classification algorithm\n",
    "classifier = MultinomialNB()\n",
    "\n",
    "# Train the classifier\n",
    "classifier.fit(X_train_tfidf, y_train)\n",
    "\n",
    "# Make predictions\n",
    "y_pred = classifier.predict(X_test_tfidf)\n",
    "\n",
    "# Evaluate the model\n",
    "accuracy = accuracy_score(y_test, y_pred)\n",
    "print(f\"Accuracy: {accuracy:.2f}\")\n",
    "print(classification_report(y_test, y_pred))"
   ]
  },
  {
   "cell_type": "code",
   "execution_count": 101,
   "metadata": {},
   "outputs": [
    {
     "name": "stdout",
     "output_type": "stream",
     "text": [
      "                                                   text  spam   category\n",
      "0     Subject: naturally irresistible your corporate...     1  Category6\n",
      "1     Subject: the stock trading gunslinger  fanny i...     1        NaN\n",
      "2     Subject: unbelievable new homes made easy  im ...     1  Category6\n",
      "3     Subject: 4 color printing special  request add...     1  Category6\n",
      "4     Subject: do not have money , get software cds ...     1  Category1\n",
      "...                                                 ...   ...        ...\n",
      "1363  Subject: are you ready to get it ?  hello !  v...     1  Category1\n",
      "1364  Subject: would you like a $ 250 gas card ?  do...     1  Category3\n",
      "1365  Subject: immediate reply needed  dear sir ,  i...     1  Category3\n",
      "1366  Subject: wanna see me get fisted ?  fist  bang...     1  Category6\n",
      "1367  Subject: hot stock info : drgv announces anoth...     1  Category6\n",
      "\n",
      "[1368 rows x 3 columns]\n",
      "                                                   text  spam   category\n",
      "0     Subject: naturally irresistible your corporate...     1  Category6\n",
      "2     Subject: unbelievable new homes made easy  im ...     1  Category6\n",
      "3     Subject: 4 color printing special  request add...     1  Category6\n",
      "4     Subject: do not have money , get software cds ...     1  Category1\n",
      "5     Subject: great nnews  hello , welcome to medzo...     1  Category1\n",
      "...                                                 ...   ...        ...\n",
      "1363  Subject: are you ready to get it ?  hello !  v...     1  Category1\n",
      "1364  Subject: would you like a $ 250 gas card ?  do...     1  Category3\n",
      "1365  Subject: immediate reply needed  dear sir ,  i...     1  Category3\n",
      "1366  Subject: wanna see me get fisted ?  fist  bang...     1  Category6\n",
      "1367  Subject: hot stock info : drgv announces anoth...     1  Category6\n",
      "\n",
      "[991 rows x 3 columns]\n"
     ]
    }
   ],
   "source": [
    "keywords_category1 = [\"meds\", \"drug\", \"med\", \"drugs\"]\n",
    "keywords_category2 = [\"living\", \"house\", \"home\"]\n",
    "keywords_category3 = [\"grants\", \"00\", \"$\"]\n",
    "keywords_category4 = [\"XXX\", \"hot\", \"sexy\", \"bang\"]\n",
    "keywords_category5 = [\"wallet\", \"bitcoin\", \"crypto\"]\n",
    "keywords_category6 = [\"advertisment\", \"request\", \"limited\"]\n",
    "data[\"category\"] = \"\"\n",
    "\n",
    "# Apply keyword searches to assign labels\n",
    "for index, row in data.iterrows():\n",
    "    email_text = row[\"text\"]  # Replace with your text column name\n",
    "\n",
    "    if any(keyword in email_text for keyword in keywords_category1):\n",
    "        data.at[index, \"category\"] = \"Category1\"\n",
    "    if any(keyword in email_text for keyword in keywords_category2):\n",
    "        data.at[index, \"category\"] = \"Category2\"\n",
    "    if any(keyword in email_text for keyword in keywords_category3):\n",
    "        data.at[index, \"category\"] = \"Category3\"\n",
    "    if any(keyword in email_text for keyword in keywords_category4):\n",
    "        data.at[index, \"category\"] = \"Category4\"\n",
    "    if any(keyword in email_text for keyword in keywords_category5):\n",
    "        data.at[index, \"category\"] = \"Category5\"\n",
    "    if any(keyword in email_text for keyword in keywords_category6):\n",
    "        data.at[index, \"category\"] = \"Category6\"\n",
    "# Assign other categories in a similar way\n",
    "data.to_csv(\"Labeled_Emails.csv\", index=False)\n",
    "data2 = pd.read_csv(\"Labeled_Emails.csv\") \n",
    "filtered_data = data2[(data2[\"spam\"] == 1) & (data2[\"category\"].notna())]\n",
    "fd = data2[data2[\"spam\"] == 1]\n",
    "print(fd)\n",
    "print(filtered_data)"
   ]
  },
  {
   "cell_type": "code",
   "execution_count": 102,
   "metadata": {},
   "outputs": [
    {
     "data": {
      "image/png": "[encoded data removed]",
      "text/plain": [
       "<Figure size 720x432 with 1 Axes>"
      ]
     },
     "metadata": {
      "needs_background": "light"
     },
     "output_type": "display_data"
    }
   ],
   "source": [
    "category_counts = data2[\"category\"].value_counts()\n",
    "\n",
    "# Create a bar graph\n",
    "plt.figure(figsize=(10, 6))\n",
    "category_counts.plot(kind='bar')\n",
    "plt.title(\"Email Categories\")\n",
    "plt.xlabel(\"Category\")\n",
    "plt.ylabel(\"Frequency\")\n",
    "\n",
    "# Display the bar graph\n",
    "plt.show()\n"
   ]
  }
 ],
 "metadata": {
  "kernelspec": {
   "display_name": "cs425-env",
   "language": "python",
   "name": "python3"
  },
  "language_info": {
   "codemirror_mode": {
    "name": "ipython",
    "version": 3
   },
   "file_extension": ".py",
   "mimetype": "text/x-python",
   "name": "python",
   "nbconvert_exporter": "python",
   "pygments_lexer": "ipython3",
   "version": "3.6.8"
  }
 },
 "nbformat": 4,
 "nbformat_minor": 2
}
