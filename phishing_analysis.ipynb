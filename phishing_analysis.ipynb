{
 "cells": [
  {
   "cell_type": "code",
   "execution_count": 1,
   "id": "6df57359",
   "metadata": {},
   "outputs": [
    {
     "name": "stderr",
     "output_type": "stream",
     "text": [
      "[nltk_data] Downloading package stopwords to\n",
      "[nltk_data]     C:\\Users\\bower\\AppData\\Roaming\\nltk_data...\n",
      "[nltk_data]   Package stopwords is already up-to-date!\n"
     ]
    }
   ],
   "source": [
    "import numpy as np\n",
    "import pandas as pd\n",
    "import matplotlib.pyplot as plt\n",
    "\n",
    "import re\n",
    "\n",
    "import gensim\n",
    "from gensim.utils import simple_preprocess\n",
    "import nltk\n",
    "nltk.download('stopwords')\n",
    "from nltk.corpus import stopwords\n",
    "from nltk.tokenize import word_tokenize\n",
    "from nltk.stem import PorterStemmer"
   ]
  },
  {
   "cell_type": "markdown",
   "id": "f5685164",
   "metadata": {},
   "source": [
    "## Collecting and cleaning the data"
   ]
  },
  {
   "cell_type": "code",
   "execution_count": 2,
   "id": "3e9f1671",
   "metadata": {},
   "outputs": [
    {
     "name": "stdout",
     "output_type": "stream",
     "text": [
      "120\n",
      "7448\n"
     ]
    }
   ],
   "source": [
    "df_one = pd.read_csv(\"datasets/phishing_data_by_type.csv\")\n",
    "df_one = df_one.loc[df_one[\"Type\"] != \"False Positives \"]\n",
    "\n",
    "dataset = np.array(df_one[\"Subject\"] + \" \" + df_one[\"Text\"])\n",
    "print(len(dataset))\n",
    "\n",
    "df_two = pd.read_csv(\"datasets/Phishing_Email.csv\")\n",
    "df_two = df_two.loc[df_two[\"Email Type\"] == \"Phishing Email\"]\n",
    "\n",
    "dataset = np.concatenate((dataset, (np.array(df_two[\"Email Text\"]))), axis=0)\n",
    "\n",
    "print(len(dataset))"
   ]
  },
  {
   "cell_type": "code",
   "execution_count": 3,
   "id": "fd10fd15",
   "metadata": {},
   "outputs": [],
   "source": [
    "def clean_text(text):\n",
    "    text = str(text)\n",
    "    # Remove punctuation using regex\n",
    "    text = re.sub(r'[^\\w\\s]', '', text)\n",
    "    # Convert text to lowercase\n",
    "    text = text.lower()\n",
    "    return text\n",
    "\n",
    "data = [clean_text(text) for text in dataset]"
   ]
  },
  {
   "cell_type": "markdown",
   "id": "523a68dd",
   "metadata": {},
   "source": [
    "## Keyword search to assign attacks to sectors"
   ]
  },
  {
   "cell_type": "code",
   "execution_count": 4,
   "id": "2fcb722b",
   "metadata": {},
   "outputs": [],
   "source": [
    "def keyword_search(sector, keywords, data):\n",
    "    count = 0\n",
    "    emails, labels = [], []\n",
    "    \n",
    "    # Create a regular expression pattern for matching the keywords\n",
    "    pattern = \"|\".join(map(re.escape, keywords))\n",
    "    pattern = r\"\\b({})\\b\".format(pattern)\n",
    "    \n",
    "    # Iterate through the email array and search for keywords\n",
    "    for index, email in enumerate(data, start=1):\n",
    "        matches = re.findall(pattern, email) \n",
    "\n",
    "        if matches:\n",
    "            # print(f\"Email {index} contains the following keywords: {', '.join(matches)}\")\n",
    "            emails.append(email)\n",
    "            labels.append(sector)\n",
    "            count += 1\n",
    "            \n",
    "    return count, emails, labels"
   ]
  },
  {
   "cell_type": "code",
   "execution_count": 5,
   "id": "3549850f",
   "metadata": {},
   "outputs": [
    {
     "name": "stdout",
     "output_type": "stream",
     "text": [
      "FINANCE: 983\n",
      "ONLINE: 599\n",
      "GOV: 882\n",
      "HEALTH: 825\n"
     ]
    }
   ],
   "source": [
    "emails = []\n",
    "labels = []\n",
    "\n",
    "# Financial Services Sector\n",
    "finance_keywords = [\"banking\", \"credit card\", \"wire transfer\", \"investment\", \"financial\", \"atm\"]\n",
    "finance_count, finance_emails, finance_labels = keyword_search(\"finance\", finance_keywords, data)\n",
    "emails += finance_emails\n",
    "labels += finance_labels\n",
    "\n",
    "print(\"FINANCE:\", finance_count)\n",
    "\n",
    "# Online Services Sector\n",
    "online_keywords = [ \"social media\", \"privacy policy\", \"subscription\", \"online shopping\", \"online gaming\", \"tech\", \"free trial\", \"product recall\", \"friend request\", \"profile update\", \"order confirmation\", \"discounts\", \"discount\", \"return policy\", \"exchange policy\", \"shopping cart\", \"software updates\", \"software update\", \"device\", \"game\", \"customer feedback\", \"gift card\"]\n",
    "# \"shipping\", \"tracking\",\n",
    "online_count, online_emails, online_labels = keyword_search(\"online\", online_keywords, data)\n",
    "emails += online_emails\n",
    "labels += online_labels\n",
    "\n",
    "print(\"ONLINE:\",  online_count)\n",
    "\n",
    "# Government and Public Sector\n",
    "gov_keywords = [\"government\", \"job opportunities\", \"job opportunity\", \"legal\", \"nonprofit\", \"scholarships\", \"financial aid\", \"grants\", \"grant\", \"social security\", \"workplace\", \"campus\", \"tuition\", \"transcripts\", \"transcript\", \"academic\", \"student loans\", \"student loan\", \"fundraising\", \"volunteer\", \"donation\", \"court\", \"criminal\", \"crime\", \"law\", \"jury\", \"payroll\", \"employee\", \"vote\", \"public service\", \"passport renewal\"]\n",
    "gov_count, gov_emails, gov_labels = keyword_search(\"gov\", gov_keywords, data)\n",
    "emails += gov_emails\n",
    "labels += gov_labels\n",
    "\n",
    "print(\"GOV:\", gov_count)\n",
    "\n",
    "# Essential Services and Healthcare Sector\n",
    "health_keywords = [\"healthcare\", \"health\", \"pharmacy\", \"covid\", \"covid-19\", \"medicine\", \"medical\", \"medication\", \"medicare\", \"patient\", \"electricity\", \"utility\", \"travel\", \"airline\"]\n",
    "#\"appointment\", \"appointments\",\n",
    "health_count, health_emails, health_labels = keyword_search(\"health\", health_keywords, data)\n",
    "emails += health_emails\n",
    "labels += health_labels\n",
    "\n",
    "print(\"HEALTH:\", health_count)"
   ]
  },
  {
   "cell_type": "code",
   "execution_count": 6,
   "id": "17cb5dd5",
   "metadata": {},
   "outputs": [
    {
     "data": {
      "image/png": "[encoded data removed]",
      "text/plain": [
       "<Figure size 640x480 with 1 Axes>"
      ]
     },
     "metadata": {},
     "output_type": "display_data"
    }
   ],
   "source": [
    "import matplotlib.pyplot as plt\n",
    "from collections import Counter\n",
    "\n",
    "counts = Counter(labels)\n",
    "plt.bar(list(counts.keys()), list(counts.values()))\n",
    "\n",
    "plt.xlabel('Sectors')\n",
    "plt.ylabel('Count')\n",
    "\n",
    "plt.show()"
   ]
  },
  {
   "cell_type": "code",
   "execution_count": null,
   "id": "27056927",
   "metadata": {},
   "outputs": [],
   "source": []
  }
 ],
 "metadata": {
  "kernelspec": {
   "display_name": "Python 3 (ipykernel)",
   "language": "python",
   "name": "python3"
  },
  "language_info": {
   "codemirror_mode": {
    "name": "ipython",
    "version": 3
   },
   "file_extension": ".py",
   "mimetype": "text/x-python",
   "name": "python",
   "nbconvert_exporter": "python",
   "pygments_lexer": "ipython3",
   "version": "3.9.13"
  }
 },
 "nbformat": 4,
 "nbformat_minor": 5
}
